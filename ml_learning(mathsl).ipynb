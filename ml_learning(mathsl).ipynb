{
  "nbformat": 4,
  "nbformat_minor": 0,
  "metadata": {
    "colab": {
      "provenance": [],
      "toc_visible": true,
      "authorship_tag": "ABX9TyNhrUTQ4bWDv9PghWTOwtpZ"
    },
    "kernelspec": {
      "name": "python3",
      "display_name": "Python 3"
    }
  },
  "cells": [
    {
      "cell_type": "markdown",
      "source": [
        "Matrix based\n"
      ],
      "metadata": {
        "id": "hA0RgOUsGC9d"
      }
    },
    {
      "cell_type": "code",
      "execution_count": 1,
      "metadata": {
        "colab": {
          "base_uri": "https://localhost:8080/"
        },
        "id": "G7UCRUiBFcl4",
        "outputId": "47183a16-61f3-4b3c-ddb9-23f113e71052"
      },
      "outputs": [
        {
          "output_type": "stream",
          "name": "stdout",
          "text": [
            "[[1 4]\n",
            " [2 1]\n",
            " [3 2]]\n"
          ]
        }
      ],
      "source": [
        "import numpy as np\n",
        "P=np.array([[1,4],[2,1],[3,2]])\n",
        "print(P)"
      ]
    },
    {
      "cell_type": "code",
      "source": [
        "Q=np.array([[2,3],[4,5],[6,5]])\n",
        "print(Q)"
      ],
      "metadata": {
        "colab": {
          "base_uri": "https://localhost:8080/"
        },
        "id": "u0D_myZmG1Fm",
        "outputId": "c6273016-ed82-4cdc-cbd3-b46345dbef26"
      },
      "execution_count": 3,
      "outputs": [
        {
          "output_type": "stream",
          "name": "stdout",
          "text": [
            "[[2 3]\n",
            " [4 5]\n",
            " [6 5]]\n"
          ]
        }
      ]
    },
    {
      "cell_type": "markdown",
      "source": [
        "Addition"
      ],
      "metadata": {
        "id": "pz4t-yp4HonO"
      }
    },
    {
      "cell_type": "code",
      "source": [
        "c1=np.add(P,Q)\n",
        "print(\"Added value of the matrixes are: \\n\",c1)"
      ],
      "metadata": {
        "colab": {
          "base_uri": "https://localhost:8080/"
        },
        "id": "QLTN7IJRHrBZ",
        "outputId": "d2251673-3274-4a26-f1d6-96a1d6c99f1b"
      },
      "execution_count": 5,
      "outputs": [
        {
          "output_type": "stream",
          "name": "stdout",
          "text": [
            "Added value of the matrixes are: \n",
            " [[3 7]\n",
            " [6 6]\n",
            " [9 7]]\n"
          ]
        }
      ]
    },
    {
      "cell_type": "markdown",
      "source": [
        "Subtract"
      ],
      "metadata": {
        "id": "ZEJzzbb0IGJD"
      }
    },
    {
      "cell_type": "code",
      "source": [
        "c2=np.subtract(P,Q)\n",
        "print(\"Subtracted value of the matrixes are: \\n\",c2)"
      ],
      "metadata": {
        "colab": {
          "base_uri": "https://localhost:8080/"
        },
        "id": "xuOjNYaKII0h",
        "outputId": "339376b5-062e-49a8-aa0c-f2c41e3568c6"
      },
      "execution_count": 6,
      "outputs": [
        {
          "output_type": "stream",
          "name": "stdout",
          "text": [
            "Subtracted value of the matrixes are: \n",
            " [[-1  1]\n",
            " [-2 -4]\n",
            " [-3 -3]]\n"
          ]
        }
      ]
    },
    {
      "cell_type": "markdown",
      "source": [
        "Multiplication"
      ],
      "metadata": {
        "id": "BvF2tAksIlN6"
      }
    },
    {
      "cell_type": "code",
      "source": [
        "a=np.array([[1,2,3],[2,5,6]])\n",
        "c3=np.dot(P,a)\n",
        "print(\"multiplication of matrix is :\\n\",c3)"
      ],
      "metadata": {
        "colab": {
          "base_uri": "https://localhost:8080/"
        },
        "id": "oXCbMdIPIovX",
        "outputId": "9f435267-149a-4773-b174-28d12c4a5f5e"
      },
      "execution_count": 9,
      "outputs": [
        {
          "output_type": "stream",
          "name": "stdout",
          "text": [
            "multiplication of matrix is :\n",
            " [[ 9 22 27]\n",
            " [ 4  9 12]\n",
            " [ 7 16 21]]\n"
          ]
        }
      ]
    },
    {
      "cell_type": "markdown",
      "source": [
        "Determinat"
      ],
      "metadata": {
        "id": "c_t7EZtwJZmv"
      }
    },
    {
      "cell_type": "code",
      "source": [
        "c4=np.linalg.det(c3)\n",
        "print(\"detrminat of the matrix is:\\n\",c4)\n",
        "\n",
        "#smmly np.linalg.inv() will give inverse of a matrix try is ur self."
      ],
      "metadata": {
        "colab": {
          "base_uri": "https://localhost:8080/"
        },
        "id": "vX20Lm_jJbCW",
        "outputId": "95b03782-aa59-4742-f689-60c3601275f1"
      },
      "execution_count": 11,
      "outputs": [
        {
          "output_type": "stream",
          "name": "stdout",
          "text": [
            "detrminat of the matrix is:\n",
            " -1.776356839400248e-14\n"
          ]
        }
      ]
    }
  ]
}